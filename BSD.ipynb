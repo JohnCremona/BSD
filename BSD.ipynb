{
 "cells": [
  {
   "cell_type": "markdown",
   "metadata": {},
   "source": [
    "$\\newcommand\\Q{\\mathbb{Q}}$\n",
    "$\\newcommand\\R{\\mathbb{R}}$\n",
    "$\\newcommand\\C{\\mathbb{C}}$\n",
    "$\\newcommand\\hh{\\hat{h}}$\n",
    "\n",
    "# The BSD formula over number fields"
   ]
  },
  {
   "cell_type": "markdown",
   "metadata": {},
   "source": [
    "The Birch--Swinnerton-Dyer (BSD) formula for elliptic curves over $\\Q$ is clearly stated and explained in many texts, but for elliptic curves over general number fields there are a number of subtleties leading to the appearance of factors which are equal to $1$ in the rational case, and clear and explicit statements are harder to find.  We cite three (by Tate, Gross, and T. Dokchitser) below, as well as a discussion on MathOverflow highlighting the common confusions which people have.  The point of this text is to clear up the potentially confusing issues.\n",
    "\n",
    "For simplicity we concentrate on the case of elliptic curves, only briefly mentioning  the  adjustments needed for Abelian varieties of higher dimension $g$.\n",
    "\n",
    "Traditionally, the BSD formula is written as a formula for the leading coefficient of the L-series $L(E,s)$ at $s=1$, which we call the *L-value*,  in terms of other quantities, including the order of the *Tate-Shafarevich group* &#1064;.   We always assume the standard conjectures, first that $L(E,s)$ has analytic continuation so that its behaviour at $s=1$ is defined, and also that &#1064; is finite.  Then we rearrange the formula so that it expresses $S=$|&#1064;| in terms of quantities which may be computed. "
   ]
  },
  {
   "cell_type": "markdown",
   "metadata": {},
   "source": [
    "## Code\n",
    "Where possible, we give the appropriate commands in Sage and Magma to compute these quantities.  Many of these functions have a precision parameter to control the precision of the output: the input is always exact, but the output may in principle be computed to arbitrary precision.  Magma can compute all the quantities separately (with a little work) and can also evaluate the entire formula.  Sage can compute all the quantities except for the L-value itself (unless $K=\\Q$)."
   ]
  },
  {
   "cell_type": "markdown",
   "metadata": {},
   "source": [
    "#### Magma\n",
    "For elliptic curves over general number fields all terms in the formula are computed and combined in the function ConjecturalSha():"
   ]
  },
  {
   "cell_type": "code",
   "execution_count": 22,
   "metadata": {},
   "outputs": [
    {
     "name": "stdout",
     "output_type": "stream",
     "text": [
      "1.00000\n"
     ]
    }
   ],
   "source": [
    "%%magma\n",
    "R<x> := PolynomialRing(Rationals());\n",
    "K<i> := NumberField(x^2+1);\n",
    "d := Degree(K);\n",
    "E := EllipticCurve([i, i + 1, i, 83*i - 486, -1528*i + 4462]);\n",
    "points := [E![11*i - 65 , -447*i - 129 ,1]];\n",
    "r := 1;\n",
    "ConjecturalSha(E, points);"
   ]
  },
  {
   "cell_type": "markdown",
   "metadata": {},
   "source": [
    "#### Sage\n",
    "\n",
    "For elliptic curves over $\\Q$ only, we have:"
   ]
  },
  {
   "cell_type": "code",
   "execution_count": 31,
   "metadata": {},
   "outputs": [
    {
     "data": {
      "text/plain": [
       "4.00000000000000"
      ]
     },
     "execution_count": 31,
     "metadata": {},
     "output_type": "execute_result"
    }
   ],
   "source": [
    "EQ = EllipticCurve('66b3')\n",
    "EQ.sha().an_numerical()"
   ]
  },
  {
   "cell_type": "code",
   "execution_count": 26,
   "metadata": {},
   "outputs": [],
   "source": [
    "R.<x> = PolynomialRing(QQ)\n",
    "K.<i> = NumberField(x^2+1)\n",
    "d = K.degree()\n",
    "E = EllipticCurve([i, i + 1, i, 83*i - 486, -1528*i + 4462])\n",
    "points = [E([11*i - 65 , -447*i - 129 ,1])]\n",
    "r = 1"
   ]
  },
  {
   "cell_type": "markdown",
   "metadata": {},
   "source": [
    "## Notation\n",
    "$K$ is a number field of degree $d=r_1+2r_2$, where $r_1$ and $r_2$ are the number of real and complex places, and discrimninant $d_K$.\n",
    "\n",
    "$E$ is an elliptic curve defined over $K$, given by an integral Weierstrass equation or model with coefficients $a_1,a_2,a_3,a_4,a_6$.  We do not assume that the model we have is minimal;  global minimal models do not always exist anyway.  We denote by $\\Delta(E)$ the discriminant of the model, which is an integral element of $K$, and by $\\mathfrak{d}(E)$ the minimal discriminant ideal of $E$, an integral ideal which is independent of the model.  Then  $(\\Delta(E))/\\mathfrak{d}(E) = \\mathfrak{u}^{12}$ for some fractional ideal $\\mathfrak{u}$.  (A global minimal model exists if and only if $\\mathfrak{u}$ is principal; in general the class of $\\mathfrak{u}$ is an invariant of $E$.)\n",
    "\n",
    "The Mordell-Weil group $E(K)$ is a finitely-generated abelian group of rank $r=r(E(K))$, with finite torsion subgroup $T=E(K)_{tors}$.  Let  $P_1,\\dots,P_r\\in E(K)$ be points which generate $E(K)/T$."
   ]
  },
  {
   "cell_type": "markdown",
   "metadata": {},
   "source": [
    "## Outline formula"
   ]
  },
  {
   "cell_type": "markdown",
   "metadata": {},
   "source": [
    "The formula for $S$ has the form\n",
    "$$\n",
    "S = \\frac{(\\text{Field factor})(\\text{$L$-value})}{(\\text{Mordell-Weil factor})(\\text{Local factor})}\n",
    "$$"
   ]
  },
  {
   "cell_type": "markdown",
   "metadata": {},
   "source": [
    "## Field factor"
   ]
  },
  {
   "cell_type": "markdown",
   "metadata": {},
   "source": [
    "This is simply $$|d_K|^{1/2}$$ (so is equal to $1$ for $K=\\Q$).  Gross includes this in with the local factors at infinite places.   For Abelian varieties of dimension $g$ the factor is $|d_K|^{g/2}$."
   ]
  },
  {
   "cell_type": "markdown",
   "metadata": {},
   "source": [
    "#### Magma:"
   ]
  },
  {
   "cell_type": "code",
   "execution_count": 27,
   "metadata": {},
   "outputs": [
    {
     "name": "stdout",
     "output_type": "stream",
     "text": [
      "2.00000000000000000000000000000\n"
     ]
    }
   ],
   "source": [
    "%%magma\n",
    "Sqrt(Abs(Discriminant(K)));"
   ]
  },
  {
   "cell_type": "markdown",
   "metadata": {},
   "source": [
    "#### Sage:"
   ]
  },
  {
   "cell_type": "code",
   "execution_count": 28,
   "metadata": {},
   "outputs": [
    {
     "data": {
      "text/plain": [
       "2.00000000000000"
      ]
     },
     "execution_count": 28,
     "metadata": {},
     "output_type": "execute_result"
    }
   ],
   "source": [
    "K.<i> = NumberField(x^2+1)\n",
    "RR(K.discriminant().abs()).sqrt()"
   ]
  },
  {
   "cell_type": "markdown",
   "metadata": {},
   "source": [
    "## The L-value"
   ]
  },
  {
   "cell_type": "markdown",
   "metadata": {},
   "source": [
    "This is $$L^{(r)}(E,1)/r!.$$  Note that in general it is only conjectural that the L-function of $E$ has analytic continuation as far as $s=1$, so both the fact that this quantity is well-defined, and the analytic properties  assumed in the algorithm to evaluate its derivative at $s=1$, are conjectural."
   ]
  },
  {
   "cell_type": "markdown",
   "metadata": {},
   "source": [
    "#### Magma:"
   ]
  },
  {
   "cell_type": "code",
   "execution_count": 29,
   "metadata": {},
   "outputs": [
    {
     "name": "stdout",
     "output_type": "stream",
     "text": [
      "3.27065142332151038687251258210\n"
     ]
    }
   ],
   "source": [
    "%%magma\n",
    "Evaluate(LSeries(E),1: Derivative:=r) / Factorial(r);"
   ]
  },
  {
   "cell_type": "markdown",
   "metadata": {},
   "source": [
    "#### Sage:\n",
    "\n",
    "For $K=\\Q$ only: "
   ]
  },
  {
   "cell_type": "code",
   "execution_count": 32,
   "metadata": {},
   "outputs": [
    {
     "data": {
      "text/plain": [
       "0.352994087776793"
      ]
     },
     "execution_count": 32,
     "metadata": {},
     "output_type": "execute_result"
    }
   ],
   "source": [
    "EQ.lseries().dokchitser().derivative(1,r) / factorial(r)"
   ]
  },
  {
   "cell_type": "markdown",
   "metadata": {},
   "source": [
    "Otherwise on a system with Magma installed one can resort to"
   ]
  },
  {
   "cell_type": "code",
   "execution_count": 33,
   "metadata": {},
   "outputs": [
    {
     "data": {
      "text/plain": [
       "3.27065142332151"
      ]
     },
     "execution_count": 33,
     "metadata": {},
     "output_type": "execute_result"
    }
   ],
   "source": [
    "RR(magma(E).LSeries().Evaluate(1, Derivative=r)) / factorial(r)"
   ]
  },
  {
   "cell_type": "markdown",
   "metadata": {},
   "source": [
    "## Mordell-Weil factor"
   ]
  },
  {
   "cell_type": "markdown",
   "metadata": {},
   "source": [
    "This is $$\\frac{R(P_1,\\dots,P_r)}{|T|^2},$$ where $R()$ is the regulator, i.e. the determinant of the height pairing matrix.  This needs to be normalised correctly!\n",
    "1.  The $(i,j)$-entry of the height pairing matrix is $$\\left<P_i,P_j\\right> = \\frac{1}{2}(\\hh(P_i+P_j) - \\hh(P_i) - \\hh(P_j)),$$ so in particular the diagonal entries are the canonical heights of the $P_i$;\n",
    "2.  The canonical height should be defined with respect to the $x$-coordinate (so that $x(P)-\\hh(P)$ is bounded independently of $P$).  There is another convention (used in some of Silverman's papers) which is half of this, as it is defined with respect to the divisor $(O)$ instead of $2(O)$.  In the MathOverflow post, Silverman explains why it makes sense to use $2(O)$ in the context of BSD.\n",
    "3.  The canonical height should **not** be normalized (by dividing by the degree $d$) to be invariant under base-change.  Note that both Magma and Sage by default normalize the height.  Sage has an option to not normalize for heights, but not (as of version 9.1) for the regulator.  Hence in both cases the regulator needs to be adjusted by multiplying by $d^r$.\n",
    "     "
   ]
  },
  {
   "cell_type": "markdown",
   "metadata": {},
   "source": [
    "#### Magma:"
   ]
  },
  {
   "cell_type": "code",
   "execution_count": 34,
   "metadata": {},
   "outputs": [
    {
     "name": "stdout",
     "output_type": "stream",
     "text": [
      "0.936071025268197987678993552740\n"
     ]
    }
   ],
   "source": [
    "%%magma\n",
    "Regulator(points) * d^r / Order(TorsionSubgroup(E))^2;"
   ]
  },
  {
   "cell_type": "markdown",
   "metadata": {},
   "source": [
    "#### Sage:"
   ]
  },
  {
   "cell_type": "code",
   "execution_count": 35,
   "metadata": {},
   "outputs": [
    {
     "data": {
      "text/plain": [
       "0.936071025268199"
      ]
     },
     "execution_count": 35,
     "metadata": {},
     "output_type": "execute_result"
    }
   ],
   "source": [
    "d = K.degree()\n",
    "E.regulator_of_points(points) * d^r / E.torsion_order()^2"
   ]
  },
  {
   "cell_type": "markdown",
   "metadata": {},
   "source": [
    "The expression given here will only be correct if the points $P_1,\\dots,P_r$ are *saturated*, i.e. generate all of $E(K)$ modulo torsion, so that $[E(K):\\left<P_1,\\dots,P_r\\right>] = |T|$. An alternative expression is sometimes seen which avoids this condition:  $$\\frac{R(P_1,\\dots,P_r)}{[E(K):\\left<P_1,\\dots,P_r\\right>]^2};$$  this is a neat trick, but not very useful in practice for computations.\n",
    "\n",
    "**NB** If the points are not saturated but only generate a subgroup (modulo torsion) of index $n$ then this factor, end hence the overall expression for $S$, will be $1/n^2$ times the correct value.   This will (usually) lead to a non-integral value of $S$, which can be detected."
   ]
  },
  {
   "cell_type": "markdown",
   "metadata": {},
   "source": [
    "### Higher genus"
   ]
  },
  {
   "cell_type": "markdown",
   "metadata": {},
   "source": [
    "For Abelian varieties $A$ of general dimension $g$ the formula involves both $A$ and its dual $A'$, and points $P_1',\\dots,P_r'$ generating $A'(K)$ modulo torsion.  (Recall that $A$ and $A'$ are isogenous so have the same rank $r$.)  The factor is then $$\\frac{\\det(<P_i,P'_j>)}{\\#A(K)_{tors}\\cdot \\#A'(K)_{tors}}$$ where now $\\left<\\cdot,\\cdot\\right>$ is the height pairing between $A$ and $A'$.\n",
    " "
   ]
  },
  {
   "cell_type": "markdown",
   "metadata": {},
   "source": [
    "## Local factors"
   ]
  },
  {
   "cell_type": "markdown",
   "metadata": {},
   "source": [
    "The complete local factor is a product of individual local factors, one for each place of $K$.  In our expresson the local factors at infinite places will be defined in a way which depends on the model, so the complete local factor also includes a correction factor making the expression independent of the model."
   ]
  },
  {
   "cell_type": "markdown",
   "metadata": {},
   "source": [
    "### At finite places"
   ]
  },
  {
   "cell_type": "markdown",
   "metadata": {},
   "source": [
    "At a finite place $v$ the local factor is $c_v$, the Tamagawa number at $v$.  This is a positive integer, the index $c_v = [E(K_v):E(K_v^0)]$, i.e. the number of connected components of $E(K_v)$.  At a place of good reduction we have $c_v=1$, so this is in effect a finite product."
   ]
  },
  {
   "cell_type": "markdown",
   "metadata": {},
   "source": [
    "#### Magma"
   ]
  },
  {
   "cell_type": "code",
   "execution_count": 41,
   "metadata": {},
   "outputs": [
    {
     "name": "stdout",
     "output_type": "stream",
     "text": [
      "225\n"
     ]
    }
   ],
   "source": [
    "%%magma\n",
    "&*[ld[2]: ld in LocalInformation(E)];"
   ]
  },
  {
   "cell_type": "markdown",
   "metadata": {},
   "source": [
    "gives the product of the Tamagawa numbers $c_v$.  (The function TamagawaNumbers() exists but is only defined for elliptic curves over $\\Q$.)"
   ]
  },
  {
   "cell_type": "markdown",
   "metadata": {},
   "source": [
    "#### Sage\n",
    "\n",
    "Over all number fields (including $\\Q$) "
   ]
  },
  {
   "cell_type": "code",
   "execution_count": 42,
   "metadata": {},
   "outputs": [
    {
     "data": {
      "text/plain": [
       "10"
      ]
     },
     "execution_count": 42,
     "metadata": {},
     "output_type": "execute_result"
    }
   ],
   "source": [
    "E.tamagawa_product_bsd()"
   ]
  },
  {
   "cell_type": "markdown",
   "metadata": {},
   "source": [
    "gives the product of all Tamagawa numbers $c_v$ times the correction factor $N(\\mathfrak{u})$ (defined below) to allow for the model not being minimal.  Over $\\Q$ only, "
   ]
  },
  {
   "cell_type": "code",
   "execution_count": 44,
   "metadata": {},
   "outputs": [
    {
     "data": {
      "text/plain": [
       "1"
      ]
     },
     "execution_count": 44,
     "metadata": {},
     "output_type": "execute_result"
    }
   ],
   "source": [
    "EQ.tamagawa_product()"
   ]
  },
  {
   "cell_type": "markdown",
   "metadata": {},
   "source": [
    "returns just the product of the Tamagawa numbers."
   ]
  },
  {
   "cell_type": "markdown",
   "metadata": {},
   "source": [
    "### At infinite places"
   ]
  },
  {
   "cell_type": "markdown",
   "metadata": {},
   "source": [
    "At each infinite place the local factor is a sutably normalized period $\\Omega_v$ and the total contribution from all infinite places is $\\prod_{v\\mid\\infty}\\Omega_v$.   Theoretically the $\\Omega_v$ are defined in terms of a N&eacute;ron differential.   We first define the periods for a fixed model of $E$ and then explain how to normalize it.  Let $\\omega_E = dx/(2y+a_1x+a_3)$ be the usual invariant differential associated to a Weierstrass model for $E$."
   ]
  },
  {
   "cell_type": "markdown",
   "metadata": {},
   "source": [
    "#### At a real place"
   ]
  },
  {
   "cell_type": "markdown",
   "metadata": {},
   "source": [
    "If $v$ is a real place define $\\Omega_v(E)$ to be the integral of $\\omega_E$ over $E(\\R)$.   This is equal to the least positive real period multiplied by the number of real components at the place $v$ (which is $1$ when $v(\\Delta_E)<0$ and $2$ when $v(\\Delta_E)>0$).\n",
    "\n",
    "  When $\\Delta_E>0$ the period lattice of $E$ at $v$ has generating periods $x$, $yi$ with $x,y>0$, and $\\Omega_v=2x$. When $\\Delta_E<0$ the period lattice of $E$ at $v$ has generating periods $2x$, $x+yi$ with $x,y>0$, and $\\Omega_v=2x$."
   ]
  },
  {
   "cell_type": "markdown",
   "metadata": {},
   "source": [
    "#### At a complex place"
   ]
  },
  {
   "cell_type": "markdown",
   "metadata": {},
   "source": [
    "If $v$ is a complex place define $\\Omega_v(E)$ to be **twice** the integral of $\\omega_E$ over $E(\\C)$.  If the period lattice of $E$ at $v$ has generating periods $w_1$, $w_2$ with $\\Im(w_2/w_1)>0$, then $\\Omega_v=2\\Im(\\overline{w_1}w_2)$ (which is positive).\n",
    "\n",
    "If we were to define $\\Omega_v$ for complex $v$ to be simply the integral of $\\omega_E$ over $E(\\C)$, then the BSD formula would need an additional factor of $2^{r_2}$."
   ]
  },
  {
   "cell_type": "markdown",
   "metadata": {},
   "source": [
    "### Complete local factor"
   ]
  },
  {
   "cell_type": "markdown",
   "metadata": {},
   "source": [
    "$$\\frac{1}{\\prod_{v\\nmid\\infty}c_v\\prod_{v\\mid\\infty}\\Omega_v N(\\mathfrak{u})}.$$"
   ]
  },
  {
   "cell_type": "markdown",
   "metadata": {},
   "source": [
    "#### Adjustment for non-minimal models"
   ]
  },
  {
   "cell_type": "markdown",
   "metadata": {},
   "source": [
    "For a global minimal model, the minimal discriminant ideal is simply the principal ideal $\\mathfrak{d}(E)=(\\Delta(E))$.   In general, $(\\Delta(E))=\\mathfrak{u}^{12}\\mathfrak{d}(E)$ for some fractional ideal $\\mathfrak{u}$ whose valuation at each prime $\\mathfrak{p}$ is $1/12$ of the difference between the valuation at $\\mathfrak{p}$ of $\\Delta(E)$ and that of the local minimal model at $\\mathfrak{p}$.\n",
    "\n",
    "The total contribution from the infinite places is now $$N(\\mathfrak{u})\\prod_{v\\mid\\infty}\\Omega_v = \\left|\\frac{N(\\Delta(E))}{N(\\mathfrak{d}(E)}\\right|^{1/12}\\prod_{v\\mid\\infty}\\Omega_v,$$ where $N(\\cdot)$ denotes the norm of a fractional ideal."
   ]
  },
  {
   "cell_type": "markdown",
   "metadata": {},
   "source": [
    "#### Magma"
   ]
  },
  {
   "cell_type": "code",
   "execution_count": 45,
   "metadata": {},
   "outputs": [
    {
     "name": "stdout",
     "output_type": "stream",
     "text": [
      "[\n",
      "[ 1.38925436257750788157636611481 + 0.110246986687105773903405440105*$.1, 0.683345315810048908022528471998 + 0.305731499589079452345731417307*$.1 ],\n",
      "[ 1.38925436257750788157636611481 - 0.110246986687105773903405440105*$.1, -0.683345315810048908022528471998 + 0.305731499589079452345731417307*$.1 ]\n",
      "]\n"
     ]
    }
   ],
   "source": [
    "%%magma\n",
    "Periods(E);"
   ]
  },
  {
   "cell_type": "markdown",
   "metadata": {},
   "source": [
    "gives a basis for the period lattice with respect to each infinite place, starting with the real places.  In evaluating `ConjecturalSha()` the product of the actual real and complex periods $\\Omega_v$ are computed from these, including factors of 2 for the real places where the discriminant is positive and a factor $2^{r_2}$, but the individual $\\Omega_v$ values are not accessible to the user."
   ]
  },
  {
   "cell_type": "markdown",
   "metadata": {},
   "source": [
    "#### Sage"
   ]
  },
  {
   "cell_type": "code",
   "execution_count": 47,
   "metadata": {},
   "outputs": [
    {
     "data": {
      "text/plain": [
       "[0.349402057646686]"
      ]
     },
     "execution_count": 47,
     "metadata": {},
     "output_type": "execute_result"
    }
   ],
   "source": [
    "[E.period_lattice(v).omega() for v in K.places()]"
   ]
  },
  {
   "cell_type": "markdown",
   "metadata": {},
   "source": [
    "gives a list of the $\\Omega_v$ for all infinite places, real and complex, including the factor of 2 for real places where the discriminant is positive, but **not** the factor of 2 at complex places.  So to obtain $\\prod_{v\\mid\\infty}\\Omega_v$ one needs the following:"
   ]
  },
  {
   "cell_type": "code",
   "execution_count": 49,
   "metadata": {},
   "outputs": [
    {
     "data": {
      "text/plain": [
       "0.698804115293371"
      ]
     },
     "execution_count": 49,
     "metadata": {},
     "output_type": "execute_result"
    }
   ],
   "source": [
    "prod([E.period_lattice(v).omega() for v in K.places()]) * 2**(K.signature()[1])"
   ]
  },
  {
   "cell_type": "markdown",
   "metadata": {},
   "source": [
    "## The full formula"
   ]
  },
  {
   "cell_type": "markdown",
   "metadata": {},
   "source": [
    "|&#1064;| $=$\n",
    "$$ |d_K|^{1/2} \\cdot \\frac{L^{(r)}(E,1)}{r!} \\cdot \\frac{|T|^2}{R(P_1,\\dots,P_r)} \\cdot \\frac{1}{N(\\mathfrak{u}) \\prod_{v\\nmid\\infty}c_v\\prod_{v\\mid\\infty}\\Omega_v}.$$"
   ]
  },
  {
   "cell_type": "markdown",
   "metadata": {},
   "source": [
    "## Comparisons"
   ]
  },
  {
   "cell_type": "markdown",
   "metadata": {},
   "source": [
    "### Tate"
   ]
  },
  {
   "cell_type": "markdown",
   "metadata": {},
   "source": [
    "Tate has a factor $|\\mu|^g$ where $g$ (which is $d$ in Tate's notation) is the dimension of the variety and he states that $|\\mu|=|d_K|^{1/2}/2^{r_2}$.   So this accounts for both  our \"field factor\" $|d_K|^{1/2}$ and also the doubling of the complex periods."
   ]
  },
  {
   "cell_type": "markdown",
   "metadata": {},
   "source": [
    "### Gross"
   ]
  },
  {
   "cell_type": "markdown",
   "metadata": {},
   "source": [
    "Gross states the formula in the form L-value$=M(A)R(A)h(A)$ where $h(A)=\\#$&#1064;.  In the analogy with the analytic class number formula &#1064; plays the role of the class group whose order is usually denoted $h$.  The other factors match our Mordell-Weil factor and Local Factors respectively:\n",
    "\n",
    "$R(E)=R(P_1,\\dots,R_r)/|T|^2$ for elliptic curves $E$, adjusted as before for general dimension.\n",
    "\n",
    "$M(A) = M_{\\infty}(A)M_f(A)$, where (in our notation) $$M_{\\infty}(A) = \\prod_{v\\mid\\infty}\\Omega_v \\cdot N(\\mathfrak{u}) \\cdot |d_K|^{-1/2},$$ and $M_f(A)$ is the Tamagawa product $\\prod_{v\\nmid\\infty}c_v$."
   ]
  },
  {
   "cell_type": "markdown",
   "metadata": {},
   "source": [
    "### Dokchitser"
   ]
  },
  {
   "cell_type": "markdown",
   "metadata": {},
   "source": [
    "$\\def\\neron#1{\\omega_{#1}^o}$\n",
    "\n",
    "On pages 3-5 he defines the regulator and L-value as we have.  He says that the regulator is the determinant of the **N&eacute;ron-Tate height-pairing** and the prefix \"N&eacute;ron-Tate\" indicates that the height is relative to $K$ and not the normalized absolute one.\n",
    "\n",
    "He combines all the local factors together into a quantity called $C_{E/K}$: Writing $\\omega$ for any invariant differential on $E$ (with arbitrary scaling), and $\\neron{v}$ the local N&eacute;ron differential at a finite place $v$, he defines $$\n",
    "  C_{E/K} = \\prod_{v\\nmid\\infty} c_v \\left|\\frac{\\omega}{\\neron{v}}\\right|_{_v}\n",
    "    \\>\\cdot\\>\\prod_{{v|\\infty},{\\text{real}}} \\int\\limits_{E(K_v)}\\!\\! |\\omega|\n",
    "    \\>\\cdot\\>\\prod_{{v|\\infty},{\\text{cplx}}} 2\\!\\!\\!\\int\\limits_{E(K_v)}\\!\\! \\omega\\wedge \\bar\\omega,\n",
    "$$\n",
    "with $c_v$ the local Tamagawa number at $v$ and  $|\\cdot|_v$ the nomalised absolute value on $K_v$.  If $\\omega$ is the differential associated to a global minimal model then $\\left|\\frac{\\omega}{\\neron{v}}\\right|_{_v}=1$ for all finite $v$ and this reduces to our unadjusted local factor.  In general the factor $N(\\mathfrak{u})$ in our formula accounts for the difference in scaling between the differential $\\omega_E$ and the local N&eacute;ron differential $\\neron{v}$ at every place.\n",
    "\n",
    "Note that $C_{E/K}$ as defined here is independent of the model of $E$."
   ]
  },
  {
   "cell_type": "markdown",
   "metadata": {},
   "source": [
    "## References"
   ]
  },
  {
   "cell_type": "markdown",
   "metadata": {},
   "source": [
    "1. J. Tate: On the conjectures of Birch and Swinnerton-Dyer and a geometric Analog. Séminaire N. Bourbaki, 1966, exp. no 306, p. 415-440.\n",
    "2. B. Gross\n",
    "3. T. Dokchitser: Notes on the parity conjecture [https://arxiv.org/abs/1009.5389]\n",
    "4. MathOverFlow [https://mathoverflow.net/questions/139575/bsd-conjecture-for-x-017]"
   ]
  },
  {
   "cell_type": "code",
   "execution_count": null,
   "metadata": {},
   "outputs": [],
   "source": []
  }
 ],
 "metadata": {
  "kernelspec": {
   "display_name": "SageMath 9.0",
   "language": "sage",
   "name": "sagemath"
  },
  "language_info": {
   "codemirror_mode": {
    "name": "ipython",
    "version": 3
   },
   "file_extension": ".py",
   "mimetype": "text/x-python",
   "name": "python",
   "nbconvert_exporter": "python",
   "pygments_lexer": "ipython3",
   "version": "3.7.3"
  }
 },
 "nbformat": 4,
 "nbformat_minor": 2
}
